{
 "nbformat": 4,
 "nbformat_minor": 0,
 "metadata": {
  "colab": {
   "provenance": [],
   "collapsed_sections": [
    "fAGi39ux-eL4"
   ],
   "toc_visible": true
  },
  "kernelspec": {
   "name": "python3",
   "language": "python",
   "display_name": "Python 3 (ipykernel)"
  },
  "language_info": {
   "name": "python"
  }
 },
 "cells": [
  {
   "cell_type": "markdown",
   "source": [
    "# Лабораторная работа №1 «Численное решение дифференциальных уравнений»\n",
    "\n"
   ],
   "metadata": {
    "id": "OsZ3HJLLSt0O"
   }
  },
  {
   "cell_type": "markdown",
   "source": [
    "## Вступление"
   ],
   "metadata": {
    "id": "fAGi39ux-eL4"
   }
  },
  {
   "cell_type": "markdown",
   "source": [
    "В первой лабораторной Вашей задачей будет изучить и реализовать различные методы для численного решения дифференциальных уравнений.\n",
    "\n",
    "Наверное, из курса физики Вы успели заметить, что дифференциальные уравнения появляются при описании явлений современного мира практически повсеместно, и практически никогда эти уравнения невозможно разрешить даже в квадратурах (выразив $y(x)$ через элементарные функции и интегралы от них).\n",
    "\n",
    "Однако, физическими задачами уже никого не удивить, а уравнение движения маятника Вам уже, наверное, набило оскомину. Да и складывающееся ощущение, что дифференциальные уравнения возникают только лишь в задачах естествознания, ошибочно. Чтобы показать это, в качестве задачи в данной лабораторной работе рассматривается интересный пример использования дифференциальных уравнений в задачах искусственного интеллекта. *Неожиданно?!* Давайте разбираться."
   ],
   "metadata": {
    "id": "hO8vUNz2TpIT"
   }
  },
  {
   "cell_type": "markdown",
   "source": [
    "## Задание 1. Численное решение дифференциального уравнения первого порядка."
   ],
   "metadata": {
    "id": "WZDoQ4jWuKbY"
   }
  },
  {
   "cell_type": "markdown",
   "source": [
    "Прежде чем приступить к интеллекту искусственному, применим интеллект естественный для реализации функций численного решения дифференциальных уравнений.\n"
   ],
   "metadata": {
    "id": "CpGs3DQvuTHK"
   }
  },
  {
   "cell_type": "markdown",
   "source": [
    "### Описание задачи"
   ],
   "metadata": {
    "id": "HfCqVa1f_lK6"
   }
  },
  {
   "cell_type": "markdown",
   "source": [
    "Так как дальше нам понадобится решать систему уравнений, то сразу будем решать задачу Коши\n",
    "$$\n",
    "\\begin{cases} x(t)' = f(t, x(t)),\\\\ x(t_0) = x_0 \\end{cases} \\quad \\text{где } x,x_0 \\in \\mathbb{R}^n, \\ t \\in [t_0,T].\n",
    "$$\n",
    "\n",
    "Рассмотрим два, наверное, самых распространенных метода:\n",
    "- Метод ломаных Эйлера,\n",
    "- Метод Рунге—Кутты."
   ],
   "metadata": {
    "id": "ej_oy4uC_lgo"
   }
  },
  {
   "cell_type": "markdown",
   "source": [
    "Импортируем необходимые нам далее библиотеки."
   ],
   "metadata": {
    "id": "AnDUr3_wUwpb"
   }
  },
  {
   "cell_type": "code",
   "source": [
    "import numpy as np\n",
    "import matplotlib.pyplot as plt"
   ],
   "metadata": {
    "id": "We4dnT90Uv7G",
    "ExecuteTime": {
     "end_time": "2024-10-29T19:21:10.427285500Z",
     "start_time": "2024-10-29T19:21:10.019654100Z"
    }
   },
   "execution_count": 910,
   "outputs": []
  },
  {
   "cell_type": "markdown",
   "source": [
    "#### Метод ломаных Эйлера"
   ],
   "metadata": {
    "id": "KB4q7e2DFGXi"
   }
  },
  {
   "cell_type": "markdown",
   "source": [
    "Метод Эйлера — это канонический и, честно говоря, простейший численный метод для решения дифференциальных уравнений. Мы будем искать приближение решения в виде ломаной. Для того, чтобы построить ломаную, нужно найти координаты ее вершин, этим и займемся.\n",
    "\n"
   ],
   "metadata": {
    "id": "FjAwqkZxFNhJ"
   }
  },
  {
   "cell_type": "markdown",
   "source": [
    "##### Теоретические выкладки"
   ],
   "metadata": {
    "id": "QTmnFY5JHQCM"
   }
  },
  {
   "cell_type": "markdown",
   "source": [
    "Зададим на отрезке $[t_0, T]$ некоторое разбиение $\\big\\{t_m\\big\\}_{m=0}^M$.\n",
    "\n",
    "Пусть $\\varphi(t)$ — истинное решение. Разложим функцию$^*$ $\\varphi(t)$ по Тейлору в точке $t_k ,\\;  k \\in \\{0,1,\\dots,M-1\\}$:\n",
    "$$\n",
    "\\varphi(t) = \\varphi(t_k) + (t-t_k)\\cdot \\varphi'(t_k) + \\mathrm{\\overline o}\\left(t-t_k\\right).\n",
    "$$\n",
    "Подставим $t=t_{k+1}$:\n",
    "$$\n",
    "\\varphi(t_{k+1}) = \\varphi(t_k) + (t_{k+1}-t_k)\\cdot \\varphi'(t_k)  + \\mathrm{\\overline o}\\left(t_{k+1}-t_k \\right).\n",
    "$$\n",
    "Обозначим $h_k = t_{k+1} - t_k$ и обрубим наше разложение, отбросив о-малое. Тогда\n",
    "$$\n",
    "\\psi(t_{k+1}) = \\varphi(t_k) + h_k \\cdot \\varphi'(t_k)\n",
    "$$\n",
    "— приближенное значение $\\varphi(t_{k+1})$, $\\psi(t_0) = x_0$.\n",
    "\n",
    "Так как $\\varphi(t)$ — решение уравнения $x'=f(t,x)$, то $\\varphi'(t) = f(t, \\varphi(t))$, а значит\n",
    "$$\n",
    "\\psi(t_{k+1}) = \\varphi(t_k) + h_k \\cdot f(t_k, \\varphi(t_k)).\n",
    "$$\n",
    "Так как $\\psi(t_k)$ — приближенное значение $\\varphi (t_k)$, то, с некоторой потерей точности, в правой части можем заменить все $\\varphi(t_k)$ на $\\psi(t_k)$.\n",
    "\n",
    "Тогда получаем множество упорядоченных вершин ломаной Эйлера:\n",
    "$$\\boxed{\\psi(t_{k+1}) = \\psi(t_k) + h_k \\cdot f(t_k, \\psi(t_k)), \\quad \\psi(t_0) = x_0}$$\n",
    "\n",
    "Тогда для построения приближенного решения задачи Коши достаточно запустить вычисление вплоть до $\\psi(t_M)$.\n",
    "\n",
    "Более подробно, а именно: то, почему метод сходится, какая погрешность получается и т.д., обсуждалось на практических занятиях.\n",
    "\n",
    "<sub>* В случае, когда у нас система уравнений, то есть $x$ является вектором, просто проделываем данные рассуждения  покомпонентно.</sub>"
   ],
   "metadata": {
    "id": "iB2WDBgWHYd7"
   }
  },
  {
   "cell_type": "markdown",
   "source": [
    "##### Реализация метода"
   ],
   "metadata": {
    "id": "1ES5KnIbP6N5"
   }
  },
  {
   "cell_type": "markdown",
   "source": [
    "Реализуйте метод ломаных Эйлера для задачи Коши\n",
    "$$\n",
    "\\begin{cases}\n",
    "x'(t) = f(t, x(t)),\\\\\n",
    "x(t_0) = x_0,\\\\\n",
    "t\\in [t_0, T].\n",
    "\\end{cases}\n",
    "$$\n",
    "в функции `Euler_method`, принимающей в качестве аргументов:\n",
    "- `fun` — функция, задающая правую часть уравнения,\n",
    "- `t` — список с границами отрезка — список $[t_0, T]$,\n",
    "- `x_0` — вектор$_{(n\\times 1)}$ начального значения при $t=t_0$,\n",
    "- `dt` — величина $h_k$ (для простоты примем разбиение равномерным),\n",
    "- `args` — словарь с аргументами для функции `fun` (в Python можно передавать в аргументы функции словарь [с помощью оператора `**` перед словарем](https://stackoverflow.com/questions/334655/passing-a-dictionary-to-a-function-as-keyword-parameters)),\n",
    "\n",
    "и возвращающей список с первой координатой — массивом с точками разбиения $t_k$, а второй — массивом со значениями приближенного решения в этих точках."
   ],
   "metadata": {
    "id": "HS1IzJfYQAYT"
   }
  },
  {
   "cell_type": "code",
   "source": [
    "'''\n",
    "Реализация метода ломаных Эйлера в функции Euler_method\n",
    "'''\n",
    "\n",
    "def Euler_method(fun, t, x_0, dt, args={}):\n",
    "    # Инициализация точек по времени\n",
    "    t_points = np.arange(t[0], t[1] + dt, dt)\n",
    "    t_points = np.clip(t_points, t[0], t[1])\n",
    "    # Инициализация массива для хранения решений\n",
    "    x_points = np.zeros((len(t_points), len(x_0)))\n",
    "    x_points[0] = x_0  # Установка начального условия\n",
    "    \n",
    "    # Основной цикл метода Эйлера\n",
    "    for i in range(1, len(t_points)):\n",
    "        x_points[i] = x_points[i-1] + dt * fun(t_points[i-1], x_points[i-1], **args)\n",
    "    \n",
    "    return t_points, x_points"
   ],
   "metadata": {
    "id": "wIcUwWtMKDwj",
    "ExecuteTime": {
     "end_time": "2024-10-29T19:21:10.480374600Z",
     "start_time": "2024-10-29T19:21:10.420450900Z"
    }
   },
   "execution_count": 911,
   "outputs": []
  },
  {
   "cell_type": "markdown",
   "source": [
    "#### Метод Рунге-Кутты"
   ],
   "metadata": {
    "id": "p-PiOF7_p7Uk"
   }
  },
  {
   "cell_type": "markdown",
   "source": [
    "Теперь рассмотрим не столько геометрически понятный, но достаточно часто применяемый на практике метод Рунге—Кутты, ограничившись лишь вторым порядком последнего."
   ],
   "metadata": {
    "id": "g2P4VJivmsg5"
   }
  },
  {
   "cell_type": "markdown",
   "source": [
    "##### Теоретические выкладки"
   ],
   "metadata": {
    "id": "jTepnBMsp7Ul"
   }
  },
  {
   "cell_type": "markdown",
   "source": [
    "Так как $\\varphi$ — решение исходной задачи Коши, то $\\varphi'(t) = f(t, \\varphi(t))$, а также\n",
    "$$\n",
    "\\varphi''(t) = \\frac{d}{d t} f(t, \\varphi(t)) = \\frac{\\partial f(t, \\varphi)}{\\partial t} + \\frac{\\partial f(t, \\varphi)}{\\partial \\varphi} \\frac{d\\varphi(t)}{dt}= \\frac{\\partial f(t, \\varphi)}{\\partial t} + \\frac{\\partial f(t, \\varphi)}{\\partial \\varphi} f(t,\\varphi(t)).\n",
    "$$\n",
    "\n",
    "Аналогично тому, что делали ранее, воспользуемся разложением Тейлора на отрезке в точке $t_k$ и подставим точку $t_{k+1}$:\n",
    "$$\n",
    "\\varphi(t_{k+1}) = \\varphi(t_k) + (t_{k+1}-t_k)\\cdot \\varphi'(t_k) + \\frac{1}{2}(t_{k+1}-t_k)^2\\cdot \\varphi''(t_k) + \\mathrm{\\overline o}\\left((t_{k+1}-t_k)^2\\right).\n",
    "$$\n",
    "Отбросим слагаемое с о-малым, тем самым переходя к приближению $\\psi$ функции $\\varphi$; подставим выражения для $\\varphi'$, $\\varphi''$. Получим\n",
    "$$\n",
    "\\psi(t_{k+1}) = \\psi(t_k) + (t_{k+1}-t_k)\\cdot f(t_k, \\psi(t_k)) + \\frac{1}{2}(t_{k+1}-t_k)^2\\cdot \\left.\\left(f'_t(t, \\psi) + f'_\\psi(t, \\psi) f(t,\\psi(t))\\right)\\right|_{(t_k, \\psi(t_k))}. \\tag{o}\n",
    "$$\n",
    "\n",
    "Запишем теперь разложение Тейлора функции двух переменных $f(t,\\psi)$ в точке $(t_k, \\psi(t_k))$ и подставим точку $\\big(t_{k}+\\alpha (t_{k+1} - t_k), \\psi(t_{k})+ \\alpha(t_{k+1}-t_k)f(t_k, \\psi(t_k))\\big)$, где $\\alpha > 0$ --- параметр метода,\n",
    "$$\n",
    "f\\big(t_{k}+\\alpha (t_{k+1} - t_k), \\psi(t_{k})+ \\alpha(t_{k+1}-t_k)f(t_k, \\psi(t_k))\\big) \\approx f(t_k, \\psi(t_k)) + \\alpha(t_{k+1}-t_k)f'_t(t_k, \\psi(t_k)) + \\alpha(t_{k+1} - t_k)  f(t_k, \\psi(t_k))f'_\\psi(t_k, \\psi(t_k)).\n",
    "$$\n",
    "\n",
    "Заметим, что это очень похоже на правую часть в выражении (o). Тогда, домножив на $\\frac{1}{2\\alpha} (t_{k+1}-t_k)$, получим\n",
    "$$\n",
    "\\psi(t_{k+1}) = \\psi(t_k) + \\left(1-\\frac{1}{2\\alpha}\\right) (t_{k+1}-t_k)\\cdot f(t_k, \\psi(t_k)) + \\frac{1}{2\\alpha}(t_{k+1} - t_k) f\\big(t_{k}+\\alpha (t_{k+1} - t_k), \\psi(t_{k})+ \\alpha(t_{k+1}-t_k)f(t_k, \\psi(t_k))\\big).\n",
    "$$\n",
    "\n",
    "Или, вводя обозначение длины шага $h_k = t_{k+1} - t_k$, получаем итерационную схему для метода Рунге—Кутты 2-ого порядка\n",
    "$$\n",
    "\\psi(t_{k+1}) = \\psi(t_k) + \\left(1-\\frac{1}{2\\alpha}\\right) h_k \\cdot \\underbrace{f(t_k, \\psi(t_k))}_{k_1} + \\frac{1}{2\\alpha} h_k \\cdot  \\underbrace{f\\big(t_{k}+\\alpha h_k, \\psi(t_{k})+ \\alpha h_k f(t_k, \\psi(t_k))\\big)}_{k_2},\n",
    "$$\n",
    "Переобозначив под более принятые обозначения, получим\n",
    "$$\n",
    "\\boxed{\n",
    "    \\begin{split}\n",
    "        &\\psi(t_{k+1}) = \\psi(t_k) + b_1 h_k k_1 + b_2 h_k k_2,\\\\\n",
    "        & k_1 = f(t_k, \\psi(t_k)), \\quad k_2 = f\\big(t_{k}+a_{21} h_k, \\psi(t_{k})+ a_{21} h_k f(t_k, \\psi(t_k))\\big),\\\\\n",
    "        & b_1, b_2 \\geqslant 0, \\quad b_1 + b_2 = 1, \\quad a_{21} = \\frac{1}{b_2}.\n",
    "    \\end{split}\n",
    "}\n",
    "$$\n"
   ],
   "metadata": {
    "id": "cxoc4OzCgaA8"
   }
  },
  {
   "cell_type": "markdown",
   "source": [
    "##### Реализация метода"
   ],
   "metadata": {
    "id": "FGLv-h5Up7Um"
   }
  },
  {
   "cell_type": "markdown",
   "source": [
    "Реализуйте метод Рунге-Кутты для задачи Коши\n",
    "$$\n",
    "\\begin{cases}\n",
    "x'(t) = f(t, x(t)),\\\\\n",
    "x(t_0) = x_0,\\\\\n",
    "t\\in [t_0, T].\n",
    "\\end{cases}\n",
    "$$\n",
    "в функции `Runge_Kutta_method`, принимающей в качестве аргументов:\n",
    "- `fun` — функция, задающая правую часть уравнения,\n",
    "- `t` — список с границами отрезка — список $[t_0, T]$,\n",
    "- `x_0` — вектор$_{(n\\times 1)}$ начального значения при $t=t_0$,\n",
    "- `dt` — величина $h_k$ (для простоты примем разбиение равномерным),\n",
    "- `args` — словарь с аргументами для функции `fun` (в Python можно передавать в аргументы функции словарь [с помощью оператора `**` перед словарем](https://stackoverflow.com/questions/334655/passing-a-dictionary-to-a-function-as-keyword-parameters)),\n",
    "\n",
    "и возвращающей список с первой координатой — массивом с точками разбиения $t_k$, а второй — массивом со значениями приближенного решения в этих точках.\n",
    "\n",
    "В зависимости от Вашего номера в таблице, возьмите $b_2 = \\frac{1}{(\\mathrm{\\text{номер в табличке}}~mod~8) + 1}$"
   ],
   "metadata": {
    "id": "hYNjKYAjp7Um"
   }
  },
  {
   "cell_type": "code",
   "source": [
    "'''\n",
    "Реализация метода Рунге—Кутты в функции Runge_Kutta_method\n",
    "'''\n",
    "\n",
    "def Runge_Kutta_method(fun, t, x_0, dt, args={}):\n",
    "    # Инициализация временных точек\n",
    "    t_points = np.arange(t[0], t[1] + dt, dt)\n",
    "    t_points = np.clip(t_points, t[0], t[1])\n",
    "    # Инициализация массива для хранения решений\n",
    "    x_points = np.zeros((len(t_points), len(x_0)))\n",
    "    x_points[0] = x_0  # Установка начального условия\n",
    "    \n",
    "    # Коэффициенты метода Рунге-Кутты 2-го порядка\n",
    "    b_2 = 1 / (26 % 8 + 1)\n",
    "    b_1 = 1 - b_2\n",
    "    a_21 = 1 / b_2\n",
    "    \n",
    "    # Основной цикл метода Рунге-Кутты\n",
    "    for i in range(1, len(t_points)):\n",
    "        t_i = t_points[i-1]\n",
    "        x_i = x_points[i-1]\n",
    "        \n",
    "        # Первый промежуточный шаг\n",
    "        k_1 = fun(t_i, x_i, **args)\n",
    "        \n",
    "        # Второй промежуточный шаг\n",
    "        k_2 = fun(t_i + a_21 * dt, x_i + a_21 * dt * k_1, **args)\n",
    "        \n",
    "        # Обновление значения x на следующем шаге\n",
    "        x_points[i] = x_i + b_1 * dt * k_1 + b_2 * dt * k_2\n",
    "    \n",
    "    return t_points, x_points"
   ],
   "metadata": {
    "id": "cvWY4vXwp7Un",
    "ExecuteTime": {
     "end_time": "2024-10-29T19:21:10.514729400Z",
     "start_time": "2024-10-29T19:21:10.483375100Z"
    }
   },
   "execution_count": 912,
   "outputs": []
  },
  {
   "cell_type": "markdown",
   "source": [
    "#### Примеры"
   ],
   "metadata": {
    "id": "6IeGhHGHm_82"
   }
  },
  {
   "cell_type": "markdown",
   "source": [
    "Давайте проверим Вашу реализацию на примерах."
   ],
   "metadata": {
    "id": "mJcleGTVcxwD"
   }
  },
  {
   "cell_type": "markdown",
   "source": [
    "###### 1. Оба метода справляются неплохо"
   ],
   "metadata": {
    "id": "eTZlAShHdAys"
   }
  },
  {
   "cell_type": "markdown",
   "source": [
    "Придумайте пример дифференциального уравнения Бернулли c $\\alpha = (\\mathrm{\\text{номер в табличке}}~mod~4) + 1$, для которого Вы можете найти точное решение в явном виде и предложенные методы дают хорошие результаты. Также придумайте некоторые начальные условия и отрезок, на котором ищется решение.\n",
    "\n",
    "Решите задачу аналитически (это Вам придется сделать честным способом на бумажке)"
   ],
   "metadata": {
    "id": "tdAtksMGdIwn"
   }
  },
  {
   "cell_type": "markdown",
   "source": [
    "Решить методом Бернулли дифференциальное уравнение:\n",
    "\\begin{equation}\n",
    "\\begin{cases}\n",
    "x^{\\prime}+2 t x=t e^{-t^2}, \\\\\n",
    "x(1) = e^{-1}.\n",
    "\\end{cases}\n",
    "\\end{equation}\n",
    "\n",
    "Решение\n",
    "\n",
    "Пожалуй решение начнем с замены подстановкой $x=u v, x^{\\prime}=u^{\\prime} v+u v^{\\prime}$ Получаем\n",
    "$$\n",
    "u^{\\prime} v+u v^{\\prime}+2 t u v=t e^{-t^2}\n",
    "$$\n",
    "\n",
    "Далее необходимо вынести за скобку общий множитель и во втором и третьем слагаемом левой части дифференциального уравнения. Имеем\n",
    "$$\n",
    "u^{\\prime} v+u\\left(v^{\\prime}+2 t v\\right)=t e^{-t^2}\n",
    "$$\n",
    "\n",
    "Теперь каким-то образом нужно найти неизвестные функции $u$ и $v$. Чтобы их найти придётся составить систему уравнений\n",
    "\\begin{equation}\n",
    "\\begin{cases}\n",
    "v^{\\prime}+2 t v=0, \\\\\n",
    "u^{\\prime} v=t e^{-t^2}.\n",
    "\\end{cases}\n",
    "\\end{equation}\n",
    "\n",
    "Заметим, что значение первого уравнения мы взяли равным нулю, чтобы из него получить $v$, а затем зная $v$ из второго получить $u$. Приступаем решать её:\n",
    "$$\n",
    "\\begin{gathered}\n",
    "v^{\\prime}+2 t v=0 \\\\\n",
    "\\frac{d v}{d t}=-2 t v \\\\\n",
    "\\frac{d v}{v}=-2 t d t \\\\\n",
    "\\ln |v|=-t^2 \\\\\n",
    "v=e^{-t^2}\n",
    "\\end{gathered}\n",
    "$$\n",
    "\n",
    "Зная теперь чему равно v возьмём и подставим его во второе уравнение системы. Далее найдём $u$:\n",
    "$$\n",
    "\\begin{gathered}\n",
    "u^{\\prime} v=t e^{-t^2} \\\\\n",
    "\\frac{d u}{d t}=\\frac{1}{v} t e^{-t^2} \\\\\n",
    "d u=\\frac{d t}{v} t e^{-t^2} \\\\\n",
    "u=\\int \\frac{t}{v} e^{-t^2} d t \\\\\n",
    "u=\\int t d t \\\\\n",
    "u=\\frac{t^2}{2}+C\n",
    "\\end{gathered}\n",
    "$$\n",
    "\n",
    "Так как $x=u v$, то ответ:\n",
    "$$\n",
    "x=\\frac{t^2 + C}{2} \\cdot e^{-t^2}\n",
    "$$\n",
    "\n",
    "Решим задачу Коши:\n",
    "$$\n",
    "e^{-1} = \\frac{1 + C}{2} \\cdot e^{-1} \\Rightarrow С = 1\n",
    "$$"
   ],
   "metadata": {
    "id": "VFiIxoWyXPZ2"
   }
  },
  {
   "cell_type": "code",
   "source": [
    "'''\n",
    "Задайте функцию f(t,x) — правую часть предложенного уравнения\n",
    "'''\n",
    "\n",
    "def f(t,x):\n",
    "    ### Место для Вашего решения ###\n",
    "    return t * np.exp(-t ** 2) - 2 * t * x"
   ],
   "metadata": {
    "id": "Vvu1i6MlOIST",
    "ExecuteTime": {
     "end_time": "2024-10-29T19:21:10.549359700Z",
     "start_time": "2024-10-29T19:21:10.505730100Z"
    }
   },
   "execution_count": 913,
   "outputs": []
  },
  {
   "cell_type": "code",
   "source": [
    "'''\n",
    "Задайте функцию phi(t) — аналитическое решение задачи Коши\n",
    "'''\n",
    "\n",
    "def phi(t):\n",
    "    ### Место для Вашего решения ###\n",
    "    return (t ** 2 + 1) / 2 * np.exp(-t ** 2)"
   ],
   "metadata": {
    "id": "XzzYbYN3gp02",
    "ExecuteTime": {
     "end_time": "2024-10-29T19:21:10.586866500Z",
     "start_time": "2024-10-29T19:21:10.551359300Z"
    }
   },
   "execution_count": 914,
   "outputs": []
  },
  {
   "cell_type": "markdown",
   "source": [
    "Проведите **анализ** относительно связи величины шага $h$, метода и получившейся ошибки.\n",
    "\n",
    "> Ваше исследование должно содержать как минимум:\n",
    "- сравнение ошибок для метода Эйлера с разными значениями шага ($\\geqslant 3$),\n",
    "- сравнение ошибок для метода Рунге-Кутты с разными значениями шага ($\\geqslant 3$),\n",
    "- сравнение методов Эйлера и Рунге-Кутты между собой:\n",
    "    - разница в ошибках при одинаковых шагах\n",
    "    - разница в шагах при (приблизительно) одинаковой ошибке\n"
   ],
   "metadata": {
    "id": "AAsmIrVQm9J_"
   }
  },
  {
   "cell_type": "code",
   "source": [
    "'''\n",
    "Постройте необходимые графики для анализа\n",
    "(не забудьте добавить легенду к графикам, чтобы отличать решения)\n",
    "'''\n",
    "### Место для Вашего решения ###\n",
    "\n",
    "def plot_func(t_array, func, color, description):\n",
    "    \"\"\"\n",
    "    Строит график по функции.\n",
    "    :param t_array: Рассматриваемый отрезок\n",
    "    :param func: Ссылка на функцию.\n",
    "    :param description: Описание графика.\n",
    "    :param color: Цвет линии графика.\n",
    "    \"\"\"\n",
    "    t = np.linspace(t_array[0], t_array[1], 100)\n",
    "    \n",
    "    # Построение графика\n",
    "    plt.plot(t, func(t), label=description, color=color)     # Построение графика\n",
    "    plt.xlabel(\"T\")                                          # Метка для оси T\n",
    "    plt.ylabel(\"X\")                                          # Метка для оси X\n",
    "    plt.legend()                                             # Отображение легенды\n",
    "    plt.grid(True)                                           # Добавление сетки\n",
    "    \n",
    "def plot_arr(t_array, x_array, color, description):\n",
    "    \"\"\"\n",
    "    Строит график для двух массивов.\n",
    "\n",
    "    :param t_array: Массив значений по оси T.\n",
    "    :param x_array: Массив значений по оси X, посчитанных численно.\n",
    "    :param description: Описание графика.\n",
    "    :param color: Цвет линии графика.\n",
    "    \"\"\"\n",
    "    plt.plot(t_array, x_array, label=description, color=color) # Построение графика\n",
    "    plt.xlabel(\"T\")                                            # Метка для оси T\n",
    "    plt.ylabel(\"X\")                                            # Метка для оси X\n",
    "    plt.legend()                                               # Отображение легенды\n",
    "    plt.grid(True)                                             # Добавление сетки"
   ],
   "metadata": {
    "id": "NJ5-1INM8c0r",
    "ExecuteTime": {
     "end_time": "2024-10-29T19:21:10.655313600Z",
     "start_time": "2024-10-29T19:21:10.587866600Z"
    }
   },
   "execution_count": 915,
   "outputs": []
  },
  {
   "cell_type": "markdown",
   "source": [
    "### Сравнение ошибок для метода Эйлера с разными значениями шага ($\\geqslant 3$)"
   ],
   "metadata": {
    "collapsed": false
   }
  },
  {
   "cell_type": "code",
   "outputs": [
    {
     "data": {
      "text/plain": "<Figure size 640x480 with 1 Axes>",
      "image/png": "[encoded data removed]"
     },
     "metadata": {},
     "output_type": "display_data"
    }
   ],
   "source": [
    "# Начальные условия\n",
    "t_segment = [1, 10]\n",
    "x_0 = [np.exp(-1)]\n",
    "\n",
    "dt = 0.22\n",
    "euler_t, euler_x = Euler_method(f, t_segment, x_0, dt)\n",
    "\n",
    "plot_func(t_segment, phi, \"red\", \"Aналитическое решение задачи Коши\")\n",
    "plot_arr(euler_t, euler_x, \"blue\", \"Решение по методу Эйлера\")"
   ],
   "metadata": {
    "collapsed": false,
    "ExecuteTime": {
     "end_time": "2024-10-29T19:21:10.771033800Z",
     "start_time": "2024-10-29T19:21:10.639820200Z"
    }
   },
   "execution_count": 916
  },
  {
   "cell_type": "code",
   "outputs": [
    {
     "data": {
      "text/plain": "<Figure size 640x480 with 1 Axes>",
      "image/png": "[encoded data removed]"
     },
     "metadata": {},
     "output_type": "display_data"
    }
   ],
   "source": [
    "# Начальные условия\n",
    "t_segment = [1, 5]\n",
    "x_0 = [np.exp(-1)]\n",
    "\n",
    "dt = 0.35\n",
    "euler_t, euler_x = Euler_method(f, t_segment, x_0, dt)\n",
    "\n",
    "plot_func(t_segment, phi, \"red\", \"Aналитическое решение задачи Коши\")\n",
    "plot_arr(euler_t, euler_x, \"blue\", \"Решение по методу Эйлера\")"
   ],
   "metadata": {
    "collapsed": false,
    "ExecuteTime": {
     "end_time": "2024-10-29T19:21:10.860033600Z",
     "start_time": "2024-10-29T19:21:10.734222600Z"
    }
   },
   "execution_count": 917
  },
  {
   "cell_type": "code",
   "outputs": [
    {
     "data": {
      "text/plain": "<Figure size 640x480 with 1 Axes>",
      "image/png": "[encoded data removed]"
     },
     "metadata": {},
     "output_type": "display_data"
    }
   ],
   "source": [
    "# Начальные условия\n",
    "t_segment = [1, 5]\n",
    "x_0 = [np.exp(-1)]\n",
    "\n",
    "dt = 0.45\n",
    "euler_t, euler_x = Euler_method(f, t_segment, x_0, dt)\n",
    "\n",
    "plot_func(t_segment, phi, \"red\", \"Aналитическое решение задачи Коши\")\n",
    "plot_arr(euler_t, euler_x, \"blue\", \"Решение по методу Эйлера\")"
   ],
   "metadata": {
    "collapsed": false,
    "ExecuteTime": {
     "end_time": "2024-10-29T19:21:10.947978100Z",
     "start_time": "2024-10-29T19:21:10.840032600Z"
    }
   },
   "execution_count": 918
  },
  {
   "cell_type": "markdown",
   "source": [
    "### Сравнение ошибок для метода Рунге-Кутты с разными значениями шага ($\\geqslant 3$)"
   ],
   "metadata": {
    "collapsed": false
   }
  },
  {
   "cell_type": "code",
   "outputs": [
    {
     "data": {
      "text/plain": "<Figure size 640x480 with 1 Axes>",
      "image/png": "[encoded data removed]"
     },
     "metadata": {},
     "output_type": "display_data"
    }
   ],
   "source": [
    "# Начальные условия\n",
    "t_segment = [1, 5]\n",
    "x_0 = [np.exp(-1)]\n",
    "\n",
    "dt = 0.11\n",
    "runge_kutta_t, runge_kutta_x = Runge_Kutta_method(f, t_segment, x_0, dt)\n",
    "\n",
    "plot_func(t_segment, phi, \"red\", \"Aналитическое решение задачи Коши\")\n",
    "plot_arr(runge_kutta_t, runge_kutta_x, \"blue\", \"Решение по методу Эйлера\")"
   ],
   "metadata": {
    "collapsed": false,
    "ExecuteTime": {
     "end_time": "2024-10-29T19:21:11.088275300Z",
     "start_time": "2024-10-29T19:21:10.937976400Z"
    }
   },
   "execution_count": 919
  },
  {
   "cell_type": "markdown",
   "source": [
    "\n",
    "Сделайте вывод относительно связи между размером шага, точностью и временем работы программы."
   ],
   "metadata": {
    "id": "1zPClLuui3hs"
   }
  },
  {
   "cell_type": "markdown",
   "source": [
    "---\n",
    "> ❗ **Место для Вашего вывода** ❗\n",
    ">\n",
    "> *Мне кажется, что ...*\n",
    "---"
   ],
   "metadata": {
    "id": "MY18snxooFIk"
   }
  },
  {
   "cell_type": "markdown",
   "source": [
    "###### 2. Метод Эйлера справляется, но лишь сильное уменьшение шага дает адекватную точность. Метод Рунге-Кутты справляется хорошо"
   ],
   "metadata": {
    "id": "GEEAQSXDjPTQ"
   }
  },
  {
   "cell_type": "markdown",
   "source": [
    "Придумайте пример дифференциального уравнения с некоторыми начальными условиями, для которого точности метода Эйлера может не хватить, а метод Рунге-Кутты выручает.  \n",
    "\n",
    "Запустите написанные ранее методы для данной задачи и сравните численное решение с аналитическим (которое, правда, Вам снова придется найти честным способом на бумажке)"
   ],
   "metadata": {
    "id": "Jy1c7rzAjPTU"
   }
  },
  {
   "cell_type": "markdown",
   "source": [
    "---\n",
    "> ❗ **Место для Вашего решения дифференциального уравнения**❗\n",
    ">\n",
    "> *Вы можете приложить фотографию с решением, используя гугл-диск (как это сделать можно глянуть [здесь](https://stackoverflow.com/questions/50670920/how-to-insert-an-inline-image-in-google-colaboratory-from-google-drive)).*\n",
    ">\n",
    "> Вы можете оставить ссылку на файл, лежащий на гугл диске (не забудьте дать доступ на чтение по ссылке)\n",
    ">\n",
    "> Вы также можете записать решение, используя Latex, который colab поддерживает.\n",
    ">\n",
    "---"
   ],
   "metadata": {
    "id": "gGK3UvkwjPTV"
   }
  },
  {
   "cell_type": "markdown",
   "source": [
    "❗ **Место для Вашего решения** ❗"
   ],
   "metadata": {
    "id": "Eo6g6zjgoBaY"
   }
  },
  {
   "cell_type": "code",
   "source": [
    "'''\n",
    "Задайте функцию f(t,x) — правую часть предложенного уравнения\n",
    "'''\n",
    "\n",
    "def f(t,x):\n",
    "    ### Место для Вашего решения ###\n",
    "    pass\n"
   ],
   "metadata": {
    "id": "CUPyPNePjPTW",
    "ExecuteTime": {
     "end_time": "2024-10-29T19:21:11.090275700Z",
     "start_time": "2024-10-29T19:21:11.057638500Z"
    }
   },
   "execution_count": 920,
   "outputs": []
  },
  {
   "cell_type": "code",
   "source": [
    "'''\n",
    "Задайте функцию phi(t) — аналитическое решение задачи Коши\n",
    "'''\n",
    "\n",
    "def phi(t):\n",
    "    ### Место для Вашего решения ###\n",
    "    pass\n"
   ],
   "metadata": {
    "id": "L645Ay2JjPTW",
    "ExecuteTime": {
     "end_time": "2024-10-29T19:21:11.091275900Z",
     "start_time": "2024-10-29T19:21:11.059958900Z"
    }
   },
   "execution_count": 921,
   "outputs": []
  },
  {
   "cell_type": "code",
   "source": [
    "'''\n",
    "Постройте необходимые графики для анализа\n",
    "(не забудьте добавить легенду к графикам, чтобы отличать решения)\n",
    "'''\n",
    "\n",
    "### Место для Вашего решения ###\n"
   ],
   "metadata": {
    "id": "A4OeRugcjPTX",
    "ExecuteTime": {
     "end_time": "2024-10-29T19:21:11.104286400Z",
     "start_time": "2024-10-29T19:21:11.064051700Z"
    }
   },
   "execution_count": 922,
   "outputs": [
    {
     "data": {
      "text/plain": "'\\nПостройте необходимые графики для анализа\\n(не забудьте добавить легенду к графикам, чтобы отличать решения)\\n'"
     },
     "execution_count": 922,
     "metadata": {},
     "output_type": "execute_result"
    }
   ]
  },
  {
   "cell_type": "markdown",
   "source": [
    "\n",
    "Сделайте вывод относительно причин, по которым получается такое поведение методов."
   ],
   "metadata": {
    "id": "F-TbO7BXjPTY"
   }
  },
  {
   "cell_type": "markdown",
   "source": [
    "---\n",
    "> ❗ **Место для Вашего вывода** ❗\n",
    ">\n",
    "> *Мне кажется, что ...*\n",
    "---"
   ],
   "metadata": {
    "id": "-scpb5AqjPTY"
   }
  },
  {
   "cell_type": "markdown",
   "source": [
    "###### 3. Оба этих метода не справляются с задачей"
   ],
   "metadata": {
    "id": "EVWC3lV3jbdE"
   }
  },
  {
   "cell_type": "markdown",
   "source": [
    "Придумайте пример дифференциального уравнения с некоторыми начальными условиями, для которого ни метод Эйлера, ни метод Рунге-Кутты не может получить хорошего результата.  \n",
    "\n",
    "Запустите написанные ранее методы для данной задачи и сравните численное решение с аналитическим (которое, правда, Вам снова придется найти честным способом на бумажке)"
   ],
   "metadata": {
    "id": "cllfZ3nMjbdF"
   }
  },
  {
   "cell_type": "markdown",
   "source": [
    "---\n",
    "> ❗ **Место для Вашего решения дифференциального уравнения**❗\n",
    ">\n",
    "> *Вы можете приложить фотографию с решением, используя гугл-диск (как это сделать можно глянуть [здесь](https://stackoverflow.com/questions/50670920/how-to-insert-an-inline-image-in-google-colaboratory-from-google-drive)).*\n",
    ">\n",
    "> Вы можете оставить ссылку на файл, лежащий на гугл диске (не забудьте дать доступ на чтение по ссылке)\n",
    ">\n",
    "> Вы также можете записать решение, используя Latex, который colab поддерживает.\n",
    ">\n",
    "---"
   ],
   "metadata": {
    "id": "1fW7sWpGjbdF"
   }
  },
  {
   "cell_type": "markdown",
   "source": [
    "❗ **Место для Вашего решения** ❗"
   ],
   "metadata": {
    "id": "O9TkT9Xqowmv"
   }
  },
  {
   "cell_type": "code",
   "source": [
    "'''\n",
    "Задайте функцию f(t,x) — правую часть предложенного уравнения\n",
    "'''\n",
    "\n",
    "def f(t,x):\n",
    "    ### Место для Вашего решения ###\n",
    "    pass\n"
   ],
   "metadata": {
    "id": "3ZuojrA2jbdG",
    "ExecuteTime": {
     "end_time": "2024-10-29T19:21:11.114282600Z",
     "start_time": "2024-10-29T19:21:11.069051400Z"
    }
   },
   "execution_count": 923,
   "outputs": []
  },
  {
   "cell_type": "code",
   "source": [
    "'''\n",
    "Задайте функцию phi(t) — аналитическое решение задачи Коши\n",
    "'''\n",
    "\n",
    "def phi(t):\n",
    "    ### Место для Вашего решения ###\n",
    "    pass\n"
   ],
   "metadata": {
    "id": "eUyp6rAljbdH",
    "ExecuteTime": {
     "end_time": "2024-10-29T19:21:11.117283500Z",
     "start_time": "2024-10-29T19:21:11.072372700Z"
    }
   },
   "execution_count": 924,
   "outputs": []
  },
  {
   "cell_type": "code",
   "source": [
    "'''\n",
    "Постройте необходимые графики для анализа\n",
    "(не забудьте добавить легенду к графикам, чтобы отличать решения)\n",
    "'''\n",
    "\n",
    "### Место для Вашего решения ###\n"
   ],
   "metadata": {
    "id": "ggo1mDQnjbdH",
    "ExecuteTime": {
     "end_time": "2024-10-29T19:21:11.119748400Z",
     "start_time": "2024-10-29T19:21:11.075280500Z"
    }
   },
   "execution_count": 925,
   "outputs": [
    {
     "data": {
      "text/plain": "'\\nПостройте необходимые графики для анализа\\n(не забудьте добавить легенду к графикам, чтобы отличать решения)\\n'"
     },
     "execution_count": 925,
     "metadata": {},
     "output_type": "execute_result"
    }
   ]
  },
  {
   "cell_type": "markdown",
   "source": [
    "\n",
    "Сделайте вывод относительно причин неприменимости этих методов."
   ],
   "metadata": {
    "id": "F9-nhlfdjbdI"
   }
  },
  {
   "cell_type": "markdown",
   "source": [
    "---\n",
    "> ❗ **Место для Вашего вывода** ❗\n",
    ">\n",
    "> *Мне кажется, что ...*\n",
    "---"
   ],
   "metadata": {
    "id": "AkKPoemcjbdI"
   }
  },
  {
   "cell_type": "markdown",
   "source": [
    "###### 4. Применимость методов для задачи с особым решением"
   ],
   "metadata": {
    "id": "xp9YbDYv7BO_"
   }
  },
  {
   "cell_type": "markdown",
   "source": [
    "Придумайте пример дифференциального уравнения с некоторыми начальными условиями, для которого существует особое решение.  \n",
    "\n",
    "Запустите написанные ранее методы для данной задачи и сравните численное решение с аналитическим (которое, правда, Вам снова придется найти честным способом на бумажке)"
   ],
   "metadata": {
    "id": "iRV-Cmlp7BPB"
   }
  },
  {
   "cell_type": "markdown",
   "source": [
    "---\n",
    "> ❗ **Место для Вашего решения дифференциального уравнения**❗\n",
    ">\n",
    "> *Вы можете приложить фотографию с решением, используя гугл-диск (как это сделать можно глянуть [здесь](https://stackoverflow.com/questions/50670920/how-to-insert-an-inline-image-in-google-colaboratory-from-google-drive)).*\n",
    ">\n",
    "> Вы можете оставить ссылку на файл, лежащий на гугл диске (не забудьте дать доступ на чтение по ссылке)\n",
    ">\n",
    "> Вы также можете записать решение, используя Latex, который colab поддерживает.\n",
    ">\n",
    "---"
   ],
   "metadata": {
    "id": "uIwO8MRv7BPC"
   }
  },
  {
   "cell_type": "markdown",
   "source": [
    "❗ **Место для Вашего решения** ❗"
   ],
   "metadata": {
    "id": "llTOUSwa7BPC"
   }
  },
  {
   "cell_type": "code",
   "source": [
    "'''\n",
    "Задайте функцию f(t,x) — правую часть предложенного уравнения\n",
    "'''\n",
    "\n",
    "def f(t,x):\n",
    "    ### Место для Вашего решения ###\n",
    "    pass\n"
   ],
   "metadata": {
    "id": "O3FpDRPT7BPC",
    "ExecuteTime": {
     "end_time": "2024-10-29T19:21:11.120261900Z",
     "start_time": "2024-10-29T19:21:11.079274600Z"
    }
   },
   "execution_count": 926,
   "outputs": []
  },
  {
   "cell_type": "code",
   "source": [
    "'''\n",
    "Задайте функцию phi(t) — аналитическое решение задачи Коши\n",
    "'''\n",
    "\n",
    "def phi(t):\n",
    "    ### Место для Вашего решения ###\n",
    "    pass\n"
   ],
   "metadata": {
    "id": "cqVG6Nog7BPD",
    "ExecuteTime": {
     "end_time": "2024-10-29T19:21:11.211587200Z",
     "start_time": "2024-10-29T19:21:11.082091100Z"
    }
   },
   "execution_count": 927,
   "outputs": []
  },
  {
   "cell_type": "code",
   "source": [
    "'''\n",
    "Постройте необходимые графики для анализа\n",
    "(не забудьте добавить легенду к графикам, чтобы отличать решения)\n",
    "'''\n",
    "\n",
    "### Место для Вашего решения ###\n"
   ],
   "metadata": {
    "id": "TY6xYMcb7BPD",
    "ExecuteTime": {
     "end_time": "2024-10-29T19:21:11.274169200Z",
     "start_time": "2024-10-29T19:21:11.118275400Z"
    }
   },
   "execution_count": 928,
   "outputs": [
    {
     "data": {
      "text/plain": "'\\nПостройте необходимые графики для анализа\\n(не забудьте добавить легенду к графикам, чтобы отличать решения)\\n'"
     },
     "execution_count": 928,
     "metadata": {},
     "output_type": "execute_result"
    }
   ]
  },
  {
   "cell_type": "markdown",
   "source": [
    "\n",
    "Сделайте вывод относительно произошедшего в моделировании и применимости этих методов к задачам с особым решением."
   ],
   "metadata": {
    "id": "MHblhA2b7BPD"
   }
  },
  {
   "cell_type": "markdown",
   "source": [
    "---\n",
    "> ❗ **Место для Вашего вывода** ❗\n",
    ">\n",
    "> *Мне кажется, что ...*\n",
    "---"
   ],
   "metadata": {
    "id": "xceM9WYq7BPE"
   }
  },
  {
   "cell_type": "markdown",
   "source": [
    "#### \\* Дополнительное размышление (Дополнительное задание _по желанию_)"
   ],
   "metadata": {
    "id": "h5XJ5JmKBu4A"
   }
  },
  {
   "cell_type": "markdown",
   "source": [
    "Посмотрите, какие методы могут использоваться для исправления выявленных недостатков приведенных выше методов.\n",
    "\n",
    "- Опишите кратко теоретические выкладки относительно одного из таких методов.\n",
    "- Попробуйте объяснить, каким образом предложенный метод помогает бороться с различными недостатками.\n",
    "- Опишите проблемы, которые появляются (или также проявляются) по сравнению с стандартными методами (Эйлера и Рунге-Кутты).\n",
    "- Приведите пример, в котором методы Эйлера и Рунге-Кутты не решают задачу, а предложенный в этом пункте метод справляется."
   ],
   "metadata": {
    "id": "-dqprEqXCFYZ"
   }
  },
  {
   "cell_type": "markdown",
   "source": [
    "## Задание 2. Восстановление цифр по бракованным картинкам."
   ],
   "metadata": {
    "id": "0Uu9gPFVasqq"
   }
  },
  {
   "cell_type": "markdown",
   "source": [
    "В этом пункте мы посмотрим на неожи"
   ],
   "metadata": {
    "id": "1K0DLp_73B7d"
   }
  },
  {
   "cell_type": "markdown",
   "source": [
    "### Описание задачи"
   ],
   "metadata": {
    "id": "dpApMCw0-VfT"
   }
  },
  {
   "cell_type": "markdown",
   "source": [
    "Вам предоставлен кусок тренировочной выборки из базы данных [MNIST](https://www.kaggle.com/datasets/hojjatk/mnist-dataset). А также бракованные изображения из этого же датасета.\n",
    "\n",
    "<p>    \n",
    "    <center>\n",
    "    <img src=\"https://drive.google.com/uc?export=view&id=1jgWvIHwXkhQ1iE6ER0Wy_SLxBvCWW1Dd\" alt=\"Проблемы с отображением изображения. Обратитесь к автору\" width=500>\n",
    "    <img src=\"https://drive.google.com/uc?export=view&id=1AET7slaGnEePLx3qjrxycJSXfHJg55bz\" alt=\"Проблемы с отображением изображения. Обратитесь к автору\" width=500>\n",
    "    <em><br>Пример данных из датасета MNIST<br>Сначала: тренировочные изображения,<br>Потом: бракованные изображения</em>\n",
    "    </center>\n",
    "</p>\n",
    "\n",
    "Необходимо, используя простейшую версию [нейронной сети Хопфилда](https://arxiv.org/abs/2008.02217), восстановить цифры на бракованных изображениях.\n",
    "\n",
    "<p>    \n",
    "    <center>\n",
    "    <img src=\"https://upload.wikimedia.org/wikipedia/commons/b/b4/Hopfield%27s_net.png\" alt>\n",
    "    <em><br>Пример: схема нейронной сети Хопфилда с тремя нейронами</em>\n",
    "    </center>\n",
    "</p>\n",
    "\n",
    "Переписывая заданную в нейронной сети Хопфилда структуру с $m$ нейронами в виде уравнения в матричном виде, можно получить\n",
    "$$\\boxed{x' = A^T \\mathrm{softmax}(\\beta Ax) - x}, \\tag{1}$$\n",
    "где $A$ — $\\text{матрица}_{(m \\times n)}$ весов, $\\beta \\in \\mathbb{R}$, $x$ — $\\text{вектор}_{(n, 1)}$ входных нейронов, $\\mathrm{softmax}(z)_i = \\frac{e^{z_i}}{\\sum_{k} e^{z_k}}$ — функция активации.\n",
    "\n",
    "А значит, задача применения нейронной сети с известной$^*$ матрицей весов сводится к решению дифференциального уравнения (1).\n",
    "\n",
    "<sub>$^*$ Матрица с весами нетрудно получается на\n",
    "основе тренировочных данных, о чем мы поговорим чуть дальше.</sub>"
   ],
   "metadata": {
    "id": "HuIE8xezWalS"
   }
  },
  {
   "cell_type": "markdown",
   "source": [
    "Нам дальше понадобится функция $\\mathrm{softmax}(x)$. Реализуйте более удобную далее в применении $\\mathrm{softmax}(\\beta \\cdot x)$ в функции `softmax(x, beta)`, рассматривая $x$ как массив `numpy.array`, а $\\beta$ — как число."
   ],
   "metadata": {
    "id": "dV1NelH3u3Kl"
   }
  },
  {
   "cell_type": "code",
   "source": [
    "'''\n",
    "Функция softmax(beta*x)\n",
    "x — numpy.array\n",
    "beta — число\n",
    "'''\n",
    "\n",
    "def softmax(x, beta=1):\n",
    "    ### Место для Вашего решения ###\n",
    "    pass\n"
   ],
   "metadata": {
    "id": "cDCM7KFBu2SJ",
    "ExecuteTime": {
     "end_time": "2024-10-29T19:21:11.319058800Z",
     "start_time": "2024-10-29T19:21:11.261593400Z"
    }
   },
   "execution_count": 929,
   "outputs": []
  },
  {
   "cell_type": "markdown",
   "source": [
    "Запишите правую часть уравнения (1), с которым мы дальше будем активно работать, в функцию `dynamics(x, A, beta)`. Используйте в качестве $x$ и $A$ массивы `numpy.array`, а в качестве $\\beta$ — число."
   ],
   "metadata": {
    "id": "AkY1XsrfvkML"
   }
  },
  {
   "cell_type": "code",
   "source": [
    "'''\n",
    "Правая часть уравнения (1)\n",
    "x — numpy.array\n",
    "A — numpy.array\n",
    "beta — число\n",
    "'''\n",
    "\n",
    "def dynamics(t, x, A, beta):\n",
    "    ### Место для Вашего решения ###\n",
    "    pass\n"
   ],
   "metadata": {
    "id": "K--hBrWWvjxe",
    "ExecuteTime": {
     "end_time": "2024-10-29T19:21:11.369295Z",
     "start_time": "2024-10-29T19:21:11.321016Z"
    }
   },
   "execution_count": 930,
   "outputs": []
  },
  {
   "cell_type": "markdown",
   "source": [
    "### Интуитивное понимание принципа работы нейронной сети Хопфилда\n"
   ],
   "metadata": {
    "id": "wIvfroq9dq8L"
   }
  },
  {
   "cell_type": "markdown",
   "source": [
    "#### Простой случай на плоскости"
   ],
   "metadata": {
    "id": "r70MUF1CtwB8"
   }
  },
  {
   "cell_type": "markdown",
   "source": [
    "Для того, чтобы понять, почему предложенный выше метод работает, необходимо углубиться в дифференциальное уравнение (1).\n",
    "\n",
    "Как мы помним, для начального анализа мы можем использовать некоторые графические методы. Например, изоклины, или, в более общем случае, --- векторные поля.\n",
    "\n",
    "Постройте с помощью [`plt.quiver`](https://matplotlib.org/stable/api/_as_gen/matplotlib.pyplot.quiver.html) векторное поле для уравнения $x' = A^T \\mathrm{softmax} (\\beta A x)-x$, положив $A = \\begin{bmatrix}1&0\\\\0&1\\\\-1&-1\\end{bmatrix}$, $\\beta=5$.\n",
    "\n",
    "Добавьте на этот же график точки* $(1,0), (0,1), (-1,-1)$.\n",
    "\n",
    "_* Заметьте, что это просто точки из матрицы $A$, координаты которых находятся в строках этой матрицы_."
   ],
   "metadata": {
    "id": "Y8mwhxrEtULZ"
   }
  },
  {
   "cell_type": "code",
   "execution_count": 931,
   "metadata": {
    "id": "oqJeMU1OSk9f",
    "ExecuteTime": {
     "end_time": "2024-10-29T19:21:11.401294800Z",
     "start_time": "2024-10-29T19:21:11.359658800Z"
    }
   },
   "outputs": [
    {
     "data": {
      "text/plain": "\"\\nВекторное поле уравнения x' = A^T softmax(beta * A * x) - x\\n\""
     },
     "execution_count": 931,
     "metadata": {},
     "output_type": "execute_result"
    }
   ],
   "source": [
    "'''\n",
    "Векторное поле уравнения x' = A^T softmax(beta * A * x) - x\n",
    "'''\n",
    "\n",
    "### Место для Вашего решения ###\n"
   ]
  },
  {
   "cell_type": "markdown",
   "source": [
    "Замечаете странное поведение стрелочек? Они как будто смотрят на одну из наших выбранных точек.\n",
    "\n",
    "Давайте проверим, сохранится ли такое поведение при другой матрице $A$.\n",
    "\n",
    "Рассмотрите матрицу $A=\\begin{bmatrix}2&2\\\\2&-1\\\\-3&4\\\\-4&-3\\end{bmatrix}$.\n",
    "\n",
    "Постройте векторное поле и найдите, какие точки обладают таким же поведением (к ним тянутся стрелочки).\n"
   ],
   "metadata": {
    "id": "JHQ6CpYjmwLw"
   }
  },
  {
   "cell_type": "code",
   "source": [
    "'''\n",
    "Векторное поле уравнения x' = A^T softmax(beta * A * x) - x\n",
    "A = [[2,2],[2,-1],[-3,4],[-4,-3]]\n",
    "beta = 5\n",
    "'''\n",
    "\n",
    "### Место для Вашего решения ###\n"
   ],
   "metadata": {
    "id": "f0xYretquX_E",
    "ExecuteTime": {
     "end_time": "2024-10-29T19:21:11.436274300Z",
     "start_time": "2024-10-29T19:21:11.403294100Z"
    }
   },
   "execution_count": 932,
   "outputs": [
    {
     "data": {
      "text/plain": "\"\\nВекторное поле уравнения x' = A^T softmax(beta * A * x) - x\\nA = [[2,2],[2,-1],[-3,4],[-4,-3]]\\nbeta = 5\\n\""
     },
     "execution_count": 932,
     "metadata": {},
     "output_type": "execute_result"
    }
   ]
  },
  {
   "cell_type": "markdown",
   "source": [
    "Не кажется ли это очень неплохим свойством? Вспомним, что векторное поле показывает как будто бы «направление скорости» нашей системы. А значит, начиная из какой-нибудь точки на плоскости, мы «скатимся» по стрелочкам в одну из заданных нами в матрице $A$ точек.\n",
    "\n",
    "Подробнее о таком поведении мы поговорим ближе к концу семестра в курсе, а пока стоит понимать это именно на таком интуитивном уровне."
   ],
   "metadata": {
    "id": "Zu_cZiXyquWp"
   }
  },
  {
   "cell_type": "markdown",
   "source": [
    "\n",
    "На самом деле, наша система (1) дает даже больше.\n",
    "\n",
    "Давайте рассмотрим матрицу $A=\\begin{bmatrix}2&3\\\\-3&2\\\\2&5\\\\-2&-3\\\\3&5\\end{bmatrix}$. Видно, что несколько предполагаемых \"точек притяжения\" сгруппированы в первой четверти плоскости.\n",
    "\n",
    "Постройте векторное поле для уравнения (1), используя данную матрицу, и посмотрите, как наше уравнение справляется с такими сгруппированными точками."
   ],
   "metadata": {
    "id": "SeRAp418r79B"
   }
  },
  {
   "cell_type": "code",
   "source": [
    "'''\n",
    "Векторное поле уравнения x' = A^T softmax(beta * A * x) - x\n",
    "A = [[2,3],[-3,2],[2,5], [-2,-3],[3,5]]\n",
    "beta = 5\n",
    "'''\n",
    "\n",
    "### Место для Вашего решения\n"
   ],
   "metadata": {
    "id": "TlXZ0pEjs_lR",
    "ExecuteTime": {
     "end_time": "2024-10-29T19:21:11.449274500Z",
     "start_time": "2024-10-29T19:21:11.422091400Z"
    }
   },
   "execution_count": 933,
   "outputs": [
    {
     "data": {
      "text/plain": "\"\\nВекторное поле уравнения x' = A^T softmax(beta * A * x) - x\\nA = [[2,3],[-3,2],[2,5], [-2,-3],[3,5]]\\nbeta = 5\\n\""
     },
     "execution_count": 933,
     "metadata": {},
     "output_type": "execute_result"
    }
   ]
  },
  {
   "cell_type": "markdown",
   "source": [
    "Замечательно! Оказывается, что среди этих сгруппированных точек выделяется одна, которая «притягивает сильнее».\n"
   ],
   "metadata": {
    "id": "Q97ZQ0sJtE5_"
   }
  },
  {
   "cell_type": "markdown",
   "source": [
    "\n",
    "Возможно, Вам до сих пор не очень понятно, к чему все эти рассуждения и как они помогут нам с обработкой изображения. Давайте переложим рассмотренные выше идеи на датасет `MNIST`."
   ],
   "metadata": {
    "id": "9epXbk_5ttIJ"
   }
  },
  {
   "cell_type": "markdown",
   "source": [
    "#### Отношение к изображениям и цифрам"
   ],
   "metadata": {
    "id": "xc0Bo-spt108"
   }
  },
  {
   "cell_type": "markdown",
   "source": [
    "Вспомним, что картинка в компьютере представляется массивом размера `(height, width)`.\n",
    "\n",
    "Теперь представьте, что мы рассматриваем распрямленную$^*$ картинку, то есть каждый пиксель записан на новой строчке. Получившийся вектор имеет размер `(width*height,1)`.\n",
    "\n",
    "И этот вектор мы можем подставлять в наше уравнение (1). Решая это уравнение, получим какой-то вектор новой распрямленной картинки, который мы можем обратно привести к исходному размеру `(height, width)`.\n",
    "\n",
    "<sub>* Заметьте, что мы не теряем информацию о картинке, если помним изначальные размеры, так как в любой момент можем обратно собрать изображение по распрямленному.</sub>"
   ],
   "metadata": {
    "id": "wcMNSaUit8Ht"
   }
  },
  {
   "cell_type": "markdown",
   "source": [
    "Остается лишь вопрос в матрице $A$. Какую ее брать?\n",
    "\n",
    "И оказывается, что тут нам помогут наши «точки притяжения». Ведь если мы знаем на каком-то тренировочном наборе, как примерно выглядят цифры, то можем их положить в матрицу $A$. Таким образом, мы получим, что наши тренировочные картинки являются «точками притяжения» для бракованных. А значит любая бракованная, следуя по стрелочкам векторного поля$^*$, придет к одной из тренировочных картинок, тем самым восстановив цифру на изображении.\n",
    "\n",
    "То есть матрица $A$ будет выглядеть примерно\n",
    "$$\n",
    "A =\n",
    "\\begin{bmatrix}\n",
    "    \\text{тренировочная распрямленная картинка 1}\\\\\n",
    "    \\text{тренировочная распрямленная картинка 2}\\\\\n",
    "    \\vdots\\\\\n",
    "    \\text{тренировочная распрямленная картинка k}\\\\\n",
    "\\end{bmatrix}.\n",
    "$$\n",
    "\n",
    "<sub>* Стоит помнить, что теперь мы все манипуляции проворачиваем в пространстве размерности `width*height`. И там уже, конечно, под векторным полем понимается немного другое и изобразить это практически невозможно.</sub>"
   ],
   "metadata": {
    "id": "sgEo2QFm6vCp"
   }
  },
  {
   "cell_type": "markdown",
   "source": [
    "### Основная часть"
   ],
   "metadata": {
    "id": "VRrLKFEm-lwB"
   }
  },
  {
   "cell_type": "markdown",
   "source": [
    "#### Загрузка данных"
   ],
   "metadata": {
    "id": "AivDwheVMkWy"
   }
  },
  {
   "cell_type": "markdown",
   "source": [
    "<table>\n",
    "  <tr>\n",
    "    <td style=\"width:40%\"><img src=https://external-content.duckduckgo.com/iu/?u=https%3A%2F%2Ftse1.mm.bing.net%2Fth%3Fid%3DOIP.HVapjsP3IhY1D-JsrfGN9gHaEo%26pid%3DApi&f=1&ipt=98ac0d905405b055fade0f342067785a1f2a3e3c9dab7a80c787fcb5627cd771&ipo=images width=200></td>\n",
    "    <td style=\"width:50%\"><center><p>Выборка из датасета производится случайным образом!<br>\n",
    "    Если Вы хотите работать с одними и теми же данными,<br>то сохраните файл <code>mnist.npz</code> к себе на компьютер <br>и каждый раз добавляйте его в Colab,<br>пользуясь кодом ниже.<br> Тогда данные будут читаться из него.</center></p></td>\n",
    "  </tr>\n",
    "</table>"
   ],
   "metadata": {
    "id": "THwG0JZH-uDR"
   }
  },
  {
   "cell_type": "code",
   "source": [
    "# @title Загрузка файла в Colab (Запускайте только если хотите добавить файл)\n",
    "\n",
    "from google.colab import files\n",
    "file = files.upload()"
   ],
   "metadata": {
    "id": "LcuPbeB6KjxF",
    "ExecuteTime": {
     "end_time": "2024-10-29T19:21:11.533599600Z",
     "start_time": "2024-10-29T19:21:11.451274800Z"
    }
   },
   "execution_count": 934,
   "outputs": [
    {
     "ename": "ModuleNotFoundError",
     "evalue": "No module named 'google'",
     "output_type": "error",
     "traceback": [
      "\u001B[1;31m---------------------------------------------------------------------------\u001B[0m",
      "\u001B[1;31mModuleNotFoundError\u001B[0m                       Traceback (most recent call last)",
      "Cell \u001B[1;32mIn[934], line 3\u001B[0m\n\u001B[0;32m      1\u001B[0m \u001B[38;5;66;03m# @title Загрузка файла в Colab (Запускайте только если хотите добавить файл)\u001B[39;00m\n\u001B[1;32m----> 3\u001B[0m \u001B[38;5;28;01mfrom\u001B[39;00m \u001B[38;5;21;01mgoogle\u001B[39;00m\u001B[38;5;21;01m.\u001B[39;00m\u001B[38;5;21;01mcolab\u001B[39;00m \u001B[38;5;28;01mimport\u001B[39;00m files\n\u001B[0;32m      4\u001B[0m file \u001B[38;5;241m=\u001B[39m files\u001B[38;5;241m.\u001B[39mupload()\n",
      "\u001B[1;31mModuleNotFoundError\u001B[0m: No module named 'google'"
     ]
    }
   ]
  },
  {
   "cell_type": "code",
   "source": [
    "# @title Загрузка выборки из датасета (запустите ячейку, исходный код скрыт) { vertical-output: true, form-width: \"100%\", display-mode: \"form\" }\n",
    "\n",
    "import os\n",
    "import torchvision.datasets as datasets\n",
    "from random import sample\n",
    "\n",
    "def show_images(images):\n",
    "    cols = 5\n",
    "    rows = int(len(images)/cols) + 1\n",
    "    plt.figure(figsize=(10,10))\n",
    "    plt.tight_layout()\n",
    "    index = 1\n",
    "    for x in images:\n",
    "        image = x\n",
    "        plt.subplot(rows, cols, index)\n",
    "        plt.imshow(image, cmap=plt.cm.gray)\n",
    "        index += 1\n",
    "\n",
    "if not os.path.exists('/content/mnist.npz'):\n",
    "    mnist_trainset = datasets.MNIST(root='/content/MNIST', train=True, download=True)\n",
    "    train = [np.array(mnist_trainset[k][0]) for k in sample(range(len(mnist_trainset)), 5)]\n",
    "    test = [np.array(mnist_trainset[k][0]) for k in sample(range(len(mnist_trainset)), 3)]\n",
    "    np.savez('/content/mnist.npz', train=train, test=test)\n",
    "\n",
    "data = np.load(\"/content/mnist.npz\")\n",
    "training_img = data[\"train\"]\n",
    "training_img = np.asarray(training_img)\n",
    "corrupted_img = data[\"test\"]\n",
    "corrupted_img_true = data['test']\n",
    "for i, item in enumerate(corrupted_img):\n",
    "    corrupted_img[i][14:, :] = 0\n",
    "\n",
    "print(\"Training Images\")\n",
    "show_images(training_img)\n",
    "plt.show()\n",
    "\n",
    "print(\"Corrupted Images\")\n",
    "show_images(corrupted_img)\n",
    "plt.show()"
   ],
   "metadata": {
    "id": "1qcyzmZ9E5pw",
    "ExecuteTime": {
     "end_time": "2024-10-29T19:21:11.952861200Z",
     "start_time": "2024-10-29T19:21:11.520231200Z"
    }
   },
   "execution_count": 935,
   "outputs": [
    {
     "name": "stdout",
     "output_type": "stream",
     "text": [
      "Training Images\n"
     ]
    },
    {
     "data": {
      "text/plain": "<Figure size 1000x1000 with 5 Axes>",
      "image/png": "[encoded data removed]"
     },
     "metadata": {},
     "output_type": "display_data"
    },
    {
     "name": "stdout",
     "output_type": "stream",
     "text": [
      "Corrupted Images\n"
     ]
    },
    {
     "data": {
      "text/plain": "<Figure size 1000x1000 with 3 Axes>",
      "image/png": "[encoded data removed]"
     },
     "metadata": {},
     "output_type": "display_data"
    }
   ]
  },
  {
   "cell_type": "markdown",
   "source": [
    "Теперь у нас есть два набора:\n",
    "- `training_img` — массив с изображениями, представленными в виде массивов $(28\\times 28)$,\n",
    "- `corrupted_img` — массив с бракованными изображениями, представленными в виде массивов $(28\\times 28)$."
   ],
   "metadata": {
    "id": "9blsa3IiMsO0"
   }
  },
  {
   "cell_type": "markdown",
   "source": [
    "#### Обработка данных"
   ],
   "metadata": {
    "id": "9BvMXMbOrPDF"
   }
  },
  {
   "cell_type": "markdown",
   "source": [
    "Как мы выяснили ранее, для работы с изображениями нам необходимо их распрямить, то есть привести к вектору размера $(784 \\times 1)$.\n",
    "\n",
    "Запишите в переменные `training_img_flatten` и `corrupted_img_flatten` массивы распрямленных изображений соответствующих наборов `training_img` и  `corrupted_img`. Выведите получившиеся размеры массивов, используя [`numpy.shape`](https://numpy.org/doc/stable/reference/generated/numpy.shape.html).\n",
    "\n",
    "<sub>_Указание:_ воспользуйтесь функцией [`numpy.reshape`](https://numpy.org/doc/stable/reference/generated/numpy.reshape.html)</sub>"
   ],
   "metadata": {
    "id": "AVvnoXZRlRmT"
   }
  },
  {
   "cell_type": "code",
   "source": [
    "'''\n",
    "Распрямите изображения и запишите итоговые массивы в переменные training_img_flatten, corrupted_img_flatten.\n",
    "'''\n",
    "\n",
    "### Место для Вашего решения ###\n"
   ],
   "metadata": {
    "id": "91cfB3YPmY3W",
    "ExecuteTime": {
     "end_time": "2024-10-29T19:21:11.954861800Z",
     "start_time": "2024-10-29T19:21:11.899232100Z"
    }
   },
   "execution_count": 936,
   "outputs": [
    {
     "data": {
      "text/plain": "'\\nРаспрямите изображения и запишите итоговые массивы в переменные training_img_flatten, corrupted_img_flatten.\\n'"
     },
     "execution_count": 936,
     "metadata": {},
     "output_type": "execute_result"
    }
   ]
  },
  {
   "cell_type": "markdown",
   "source": [
    "#### Обучение сети"
   ],
   "metadata": {
    "id": "1I73LfjhrTSB"
   }
  },
  {
   "cell_type": "markdown",
   "source": [
    "Основываясь на наших предположениях из интуитивного понимания принципа работы, заполните матрицу $A$. В этом и заключается обучение нашей сети."
   ],
   "metadata": {
    "id": "QXmq_OlKmYga"
   }
  },
  {
   "cell_type": "code",
   "source": [
    "'''\n",
    "Задайте матрицу весов A\n",
    "'''\n",
    "\n",
    "### Место для Вашего решения ###\n"
   ],
   "metadata": {
    "id": "L6rKhVkrqp3C",
    "ExecuteTime": {
     "end_time": "2024-10-29T19:21:11.974985400Z",
     "start_time": "2024-10-29T19:21:11.903405600Z"
    }
   },
   "execution_count": 937,
   "outputs": [
    {
     "data": {
      "text/plain": "'\\nЗадайте матрицу весов A\\n'"
     },
     "execution_count": 937,
     "metadata": {},
     "output_type": "execute_result"
    }
   ]
  },
  {
   "cell_type": "markdown",
   "source": [
    "$\\beta$ зададим равной $10^{-5}$. Вы можете поизменять этот гиперпараметр и написать в выводе, что меняется, или почитать в открытых источниках."
   ],
   "metadata": {
    "id": "8QKDjDbosFaB"
   }
  },
  {
   "cell_type": "code",
   "source": [
    "beta = 1e-5"
   ],
   "metadata": {
    "id": "V85E1FjEsEdt",
    "ExecuteTime": {
     "end_time": "2024-10-29T19:21:11.986495200Z",
     "start_time": "2024-10-29T19:21:11.909581200Z"
    }
   },
   "execution_count": 938,
   "outputs": []
  },
  {
   "cell_type": "markdown",
   "source": [
    "#### Применение обученной сети = решение дифференциального уравнения"
   ],
   "metadata": {
    "id": "iFmjllLzr48s"
   }
  },
  {
   "cell_type": "markdown",
   "source": [
    "Получается, что применение нашей сети сводится к решению задачи Коши с уравнением (1) и начальным условием, равным бракованной картинке, которую мы хотим восстановить. Понятно, что решать ее в явном виде не имеет смысла (по-крайней мере, потому что это система из 784 уравнений с функцией $\\mathrm{softmax}$ внутри). Поэтому будем решать численно."
   ],
   "metadata": {
    "id": "mUDPNHTUteik"
   }
  },
  {
   "cell_type": "markdown",
   "source": [
    "Воспользуйтесь функцией `Euler_method` из первого задания для решения заданной задачи Коши для каждой бракованной картинки с подставленными матрицей $A$ и скаляром $\\beta$.\n",
    "\n",
    "Получившиеся решения запишите в переменные `solution_i`, где $i$ — порядковый номер бракованной картинки (начинается с нуля)."
   ],
   "metadata": {
    "id": "-E99Tm7tuFen"
   }
  },
  {
   "cell_type": "code",
   "source": [
    "'''\n",
    "Запишите решения задач Коши в переменные solution_i\n",
    "'''\n",
    "\n",
    "### Место для Вашего решения ###\n"
   ],
   "metadata": {
    "id": "fZXwKcAjr3-Z",
    "ExecuteTime": {
     "end_time": "2024-10-29T19:21:11.988495900Z",
     "start_time": "2024-10-29T19:21:11.912934100Z"
    }
   },
   "execution_count": 939,
   "outputs": [
    {
     "data": {
      "text/plain": "'\\nЗапишите решения задач Коши в переменные solution_i\\n'"
     },
     "execution_count": 939,
     "metadata": {},
     "output_type": "execute_result"
    }
   ]
  },
  {
   "cell_type": "markdown",
   "source": [
    "Выведите получившиеся восстановленные изображения бок о бок с исходными бракованными. Как Вы думаете, угадал ли компьютер с цифрой? Сделайте вывод почему."
   ],
   "metadata": {
    "id": "JCL-t_S9wf9Q"
   }
  },
  {
   "cell_type": "code",
   "source": [
    "'''\n",
    "Вывод изображений: бракованное | восстановленное\n",
    "'''\n",
    "### Место для Вашего решения ###\n",
    "\n"
   ],
   "metadata": {
    "id": "5s6kKSnDwLqW",
    "ExecuteTime": {
     "end_time": "2024-10-29T19:21:11.989495700Z",
     "start_time": "2024-10-29T19:21:11.917440600Z"
    }
   },
   "execution_count": 940,
   "outputs": [
    {
     "data": {
      "text/plain": "'\\nВывод изображений: бракованное | восстановленное\\n'"
     },
     "execution_count": 940,
     "metadata": {},
     "output_type": "execute_result"
    }
   ]
  },
  {
   "cell_type": "markdown",
   "source": [
    "#### Вывод"
   ],
   "metadata": {
    "id": "uhl3IzXpigyv"
   }
  },
  {
   "cell_type": "markdown",
   "source": [
    "Сделайте выводы относительно того, насколько удачно сработала нейронная сеть. Порассуждайте, почему так произошло."
   ],
   "metadata": {
    "id": "GTbSCfJricnt"
   }
  },
  {
   "cell_type": "markdown",
   "source": [
    "---\n",
    "> ❗ **Место для Вашего вывода** ❗\n",
    ">\n",
    "> *Мне кажется, что ...*\n",
    "---"
   ],
   "metadata": {
    "id": "opI4_oe2xwwM"
   }
  },
  {
   "cell_type": "markdown",
   "source": [
    "## Бонус! <sub>но все еще обязательный</sub>"
   ],
   "metadata": {
    "id": "apHMgTApylpY"
   }
  },
  {
   "cell_type": "markdown",
   "source": [
    "> Я прекрасно знаю, как Вы все любите лабораторные работы с покемонами еще с первого курса.\n",
    ">\n",
    "> Поэтому предлагаю свою версию работы про покемонов."
   ],
   "metadata": {
    "id": "SUxbNvnBypYe"
   }
  },
  {
   "cell_type": "markdown",
   "source": [
    "### Описание задачи"
   ],
   "metadata": {
    "id": "Ay5B8BjYzCAo"
   }
  },
  {
   "cell_type": "markdown",
   "source": [
    "Мне кажется, во всем, что связано с покемонами, есть эпизоды, когда по тени необходимо угадать имена покемонов. Именно это и предлагается сделать Вам в бонусном задании.\n",
    "\n",
    "И, конечно, было бы интересно заставить это делать Вас самих, но лучше попросим об этом волшебную машину с нейронной сетью Хопфилда."
   ],
   "metadata": {
    "id": "SWkltyT5zNdP"
   }
  },
  {
   "cell_type": "markdown",
   "source": [
    "### Основная часть"
   ],
   "metadata": {
    "id": "RGrCnnFd1jUD"
   }
  },
  {
   "cell_type": "markdown",
   "source": [
    "#### Загрузка данных"
   ],
   "metadata": {
    "id": "JaJU7qHP1ZMA"
   }
  },
  {
   "cell_type": "markdown",
   "source": [
    "<table>\n",
    "  <tr>\n",
    "    <td style=\"width:40%\"><img src=https://external-content.duckduckgo.com/iu/?u=https%3A%2F%2Ftse1.mm.bing.net%2Fth%3Fid%3DOIP.HVapjsP3IhY1D-JsrfGN9gHaEo%26pid%3DApi&f=1&ipt=98ac0d905405b055fade0f342067785a1f2a3e3c9dab7a80c787fcb5627cd771&ipo=images width=200></td>\n",
    "    <td style=\"width:50%\"><center><p>Картинка тени покемона каждый раз выбирается случайным образом!<br>\n",
    "    Если Вы хотите написать вывод по конкретному покемону,<br>то сохраните картинки тени и результата к себе на компьютер <br>и вставьте картинки в вывод.</center></p></td>\n",
    "  </tr>\n",
    "</table>"
   ],
   "metadata": {
    "id": "-zjHqpm0gID9"
   }
  },
  {
   "cell_type": "code",
   "source": [
    "# @title Загрузка покемонов (запустите ячейку, исходный код скрыт) { vertical-output: true, form-width: \"100%\", display-mode: \"form\" }\n",
    "import matplotlib.image as mpimg\n",
    "from urllib.request import urlretrieve\n",
    "from random import choice, sample\n",
    "\n",
    "background = mpimg.imread(urlretrieve(\"https://d31xsmoz1lk3y3.cloudfront.net/big/1582671.jpg?v=1558141242\", \"bg.jpg\")[0])\n",
    "\n",
    "urls = [\n",
    "    f'https://assets.pokemon.com/assets/cms2/img/pokedex/full/0{i}.png' for i in sample(range(10, 100), 5)\n",
    "]\n",
    "\n",
    "training_img = []\n",
    "shadow_img = []\n",
    "for url in urls:\n",
    "    file_name, _ = urlretrieve(url, \"test.png\")\n",
    "    img = mpimg.imread(file_name)\n",
    "    xx = np.linspace(0, img.shape[0] - 1, 80).astype(int)\n",
    "    yy = np.linspace(0, img.shape[1] - 1, 80).astype(int)\n",
    "    resized_img = img[xx, :, :][:, yy, :]\n",
    "    query_img = np.ones(resized_img.shape)\n",
    "    query_img[:, :, 0] = (resized_img[..., :3].max(axis=2) < 0.01) * 0.0\n",
    "    query_img[:, :, 1] = (resized_img[..., :3].max(axis=2) < 0.01) * 0.0\n",
    "    query_img[:, :, 2] = (resized_img[..., :3].max(axis=2) < 0.01) * 0.0\n",
    "    query_img[:, :, 3] = resized_img[:, :, 3]\n",
    "    training_img.append(resized_img)\n",
    "    shadow_img.append(query_img)\n",
    "\n",
    "training_img = np.asarray(training_img)\n",
    "shadow_img = choice(shadow_img)\n",
    "fig = plt.figure(frameon=False)\n",
    "plt.imshow(shadow_img, origin='lower', extent=[200, 200+4*shadow_img.shape[0],50,50+4*shadow_img.shape[1]])\n",
    "plt.imshow(background,alpha=0.7)\n",
    "plt.axis('off')\n",
    "plt.axis(\"tight\")\n",
    "plt.axis(\"image\")\n",
    "print('\\033[1m' + 'Это что за покемон?' + '\\033[0m')"
   ],
   "metadata": {
    "id": "O4F-KB1W01pB",
    "ExecuteTime": {
     "end_time": "2024-10-29T19:21:14.060369800Z",
     "start_time": "2024-10-29T19:21:11.922861200Z"
    }
   },
   "execution_count": 941,
   "outputs": [
    {
     "name": "stdout",
     "output_type": "stream",
     "text": [
      "\u001B[1mЭто что за покемон?\u001B[0m\n"
     ]
    },
    {
     "data": {
      "text/plain": "<Figure size 640x480 with 1 Axes>",
      "image/png": "[encoded data removed]"
     },
     "metadata": {},
     "output_type": "display_data"
    }
   ]
  },
  {
   "cell_type": "markdown",
   "source": [
    "Теперь в у нас есть:\n",
    "- `training_img` — массив с цветными изображениями, представленными в виде массивов,\n",
    "- `shadow_img` — тень какого-то покемона."
   ],
   "metadata": {
    "id": "zhmgQ6qg2FwI"
   }
  },
  {
   "cell_type": "markdown",
   "source": [
    "#### Обработка данных"
   ],
   "metadata": {
    "id": "pvhxxRMa1ub9"
   }
  },
  {
   "cell_type": "markdown",
   "source": [
    "Аналогично случаю с изображениями цифр распрямите изображения в массивы."
   ],
   "metadata": {
    "id": "T-fQ2FuN1WHN"
   }
  },
  {
   "cell_type": "code",
   "source": [
    "'''\n",
    "Распрямите изображения и запишите итоговые массивы в переменные training_img_flatten, shadow_img_flatten.\n",
    "'''\n",
    "\n",
    "### Место для Вашего решения ###\n"
   ],
   "metadata": {
    "id": "IYsEvwNT1UeX",
    "ExecuteTime": {
     "end_time": "2024-10-29T19:21:14.062369300Z",
     "start_time": "2024-10-29T19:21:14.053548800Z"
    }
   },
   "execution_count": 942,
   "outputs": [
    {
     "data": {
      "text/plain": "'\\nРаспрямите изображения и запишите итоговые массивы в переменные training_img_flatten, shadow_img_flatten.\\n'"
     },
     "execution_count": 942,
     "metadata": {},
     "output_type": "execute_result"
    }
   ]
  },
  {
   "cell_type": "markdown",
   "source": [
    "#### Обучение сети"
   ],
   "metadata": {
    "id": "wVt2mE0O3crq"
   }
  },
  {
   "cell_type": "markdown",
   "source": [
    "Обучите сеть, задав матрицу $A$."
   ],
   "metadata": {
    "id": "6wWxtGH83j8l"
   }
  },
  {
   "cell_type": "code",
   "source": [
    "'''\n",
    "Задайте матрицу весов A\n",
    "'''\n",
    "\n",
    "### Место для Вашего решения ###\n"
   ],
   "metadata": {
    "id": "4BsoKoHd3K4C",
    "ExecuteTime": {
     "end_time": "2024-10-29T19:21:14.066762400Z",
     "start_time": "2024-10-29T19:21:14.058547100Z"
    }
   },
   "execution_count": 943,
   "outputs": [
    {
     "data": {
      "text/plain": "'\\nЗадайте матрицу весов A\\n'"
     },
     "execution_count": 943,
     "metadata": {},
     "output_type": "execute_result"
    }
   ]
  },
  {
   "cell_type": "code",
   "source": [
    "beta = 1e-2"
   ],
   "metadata": {
    "id": "Nk29Zb693q22",
    "ExecuteTime": {
     "end_time": "2024-10-29T19:21:14.071801100Z",
     "start_time": "2024-10-29T19:21:14.061371700Z"
    }
   },
   "execution_count": 944,
   "outputs": []
  },
  {
   "cell_type": "markdown",
   "source": [
    "#### Применение обученной сети"
   ],
   "metadata": {
    "id": "4R4vEN8l3qi0"
   }
  },
  {
   "cell_type": "markdown",
   "source": [
    "Примените обученную сеть, чтобы определить* покемона по его тени.\n",
    "\n",
    "На этот раз воспользуйтесь написанной в первом задании функцией `Runge_Kutta_method`.\n",
    "\n",
    "&nbsp;\n",
    "&nbsp;\n",
    "\n",
    "_* Может так оказаться, что результат будет неузнаваем. Тогда Вам необходимо будет поизменять отрезок, на котором решается уравнение, или гиперпараметр `beta`. Обычно что-нибудь из этого способно помочь._"
   ],
   "metadata": {
    "id": "MOweNf1k3xwf"
   }
  },
  {
   "cell_type": "code",
   "source": [
    "'''\n",
    "Запишите решения задач Коши в переменные solution\n",
    "'''\n",
    "\n",
    "### Место для Вашего решения ###\n"
   ],
   "metadata": {
    "id": "5B7YyfWx36Eh",
    "ExecuteTime": {
     "end_time": "2024-10-29T19:21:14.082860Z",
     "start_time": "2024-10-29T19:21:14.064763500Z"
    }
   },
   "execution_count": 945,
   "outputs": [
    {
     "data": {
      "text/plain": "'\\nЗапишите решения задач Коши в переменные solution\\n'"
     },
     "execution_count": 945,
     "metadata": {},
     "output_type": "execute_result"
    }
   ]
  },
  {
   "cell_type": "markdown",
   "source": [
    "Выведите результат бок о бок с тенью."
   ],
   "metadata": {
    "id": "HPnxEiB45bzM"
   }
  },
  {
   "cell_type": "code",
   "source": [
    "'''\n",
    "Вывод изображений: тень | покемон\n",
    "'''\n",
    "\n",
    "### Место для Вашего решения ###\n"
   ],
   "metadata": {
    "id": "xC6NkPNP4KRI",
    "ExecuteTime": {
     "end_time": "2024-10-29T19:21:14.173444700Z",
     "start_time": "2024-10-29T19:21:14.069280300Z"
    }
   },
   "execution_count": 946,
   "outputs": [
    {
     "data": {
      "text/plain": "'\\nВывод изображений: тень | покемон\\n'"
     },
     "execution_count": 946,
     "metadata": {},
     "output_type": "execute_result"
    }
   ]
  },
  {
   "cell_type": "markdown",
   "source": [
    "#### Вывод"
   ],
   "metadata": {
    "id": "Tz0rF2Gpikrf"
   }
  },
  {
   "cell_type": "markdown",
   "source": [
    "Сделайте выводы относительно того, насколько удачно сработала нейронная сеть. Порассуждайте, почему так произошло."
   ],
   "metadata": {
    "id": "t1RiA5QHiM5A"
   }
  },
  {
   "cell_type": "markdown",
   "source": [
    "---\n",
    "> ❗ **Место для Вашего вывода** ❗\n",
    ">\n",
    "> *Мне кажется, что ...*\n",
    "---"
   ],
   "metadata": {
    "id": "vlSO5T0gh-In"
   }
  },
  {
   "cell_type": "markdown",
   "source": [
    "#### Самая обязательная часть"
   ],
   "metadata": {
    "id": "w3tllEk_iFgM"
   }
  },
  {
   "cell_type": "markdown",
   "source": [
    "Ну и, естественно, Вам необходимо узнать имя выпавшего покемона и его способности 😀\n",
    "\n",
    "~~Ведь в этом суть лабораторных по программированию, разве нет?!~~"
   ],
   "metadata": {
    "id": "T6temovd9pwR"
   }
  },
  {
   "cell_type": "markdown",
   "source": [
    "---\n",
    "> ❗ **Место для имени и способностей покемона** ❗\n",
    ">\n",
    "> *Мне кажется, что это ...*\n",
    "---"
   ],
   "metadata": {
    "id": "Qxtz8PMl93vi"
   }
  }
 ]
}
